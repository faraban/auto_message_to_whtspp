{
 "cells": [
  {
   "cell_type": "code",
   "execution_count": 1,
   "id": "6688f4a1",
   "metadata": {},
   "outputs": [],
   "source": [
    "# Importation des bibliothèques pandas (pour la manipulation de données tabulaires),\n",
    "# numpy (pour les opérations mathématiques et numériques) et pywhatkit (pour les fonctionnalités de pywhatkit)\n",
    "import pandas as pd\n",
    "import numpy as np\n",
    "import pywhatkit as kit"
   ]
  },
  {
   "cell_type": "code",
   "execution_count": 3,
   "id": "7d412d78",
   "metadata": {},
   "outputs": [],
   "source": [
    "# Lecture des données à partir du fichier Excel \"aws.xlsx\" et stockage dans un DataFrame pandas\n",
    "data = pd.read_excel('aws.xlsx')\n",
    "# Extraction de la colonne 'Adresse e-mail' du DataFrame et stockage dans une liste appelée 'mail'\n",
    "mail = list(data['Adresse e-mail'])"
   ]
  },
  {
   "cell_type": "code",
   "execution_count": 4,
   "id": "e3c20635",
   "metadata": {},
   "outputs": [],
   "source": [
    "a=['icloud.com','tmail.com','kdiomande ','&gmail.com','aiesec.net','0@inphb.ci','mail.coml','z@yahoo.fr','tisarl.com','1@inphb.ci','oulook.com']   \n",
    "# Création d'une liste vide pour stocker les adresses e-mail filtrées\n",
    "ngmail = []\n",
    "# Parcours de chaque adresse e-mail dans la liste 'mail'\n",
    "for i in mail:\n",
    "    # Conversion de 'i' en chaîne de caractères (au cas où ce ne serait pas déjà une chaîne)\n",
    "    i = str(i)\n",
    "    # Vérification si les 10 derniers caractères de 'i' existent dans la liste 'a'\n",
    "    if i[-10:] in a:\n",
    "        # Si oui, ajoute 'i' à la liste 'ngmail'\n",
    "        ngmail.append(i)\n",
    "# Parcours de chaque adresse e-mail dans la liste 'ngmail'\n",
    "for i in ngmail:\n",
    "    # Suppression de 'i' de la liste 'mail'\n",
    "    mail.remove(i)"
   ]
  },
  {
   "cell_type": "code",
   "execution_count": 80,
   "id": "b59352ad",
   "metadata": {},
   "outputs": [],
   "source": [
    "# Parcours de chaque adresse e-mail dans la liste 'mail'\n",
    "for i in mail:\n",
    "    # Définition du message à envoyer (dans cet exemple, le message est \"hello\")\n",
    "    message = \"hello\"\n",
    "    # Définition de l'objet du message (dans cet exemple, l'objet est \"salut\")\n",
    "    objet = \"salut\"\n",
    "    # Envoi de l'e-mail en utilisant pywhatkit.send_mail()\n",
    "    # Vous devrez remplacer \"cl.faraban@gmail.com\" et \"mhnxtsumvgqxqvhq\" par vos propres informations d'expéditeur\n",
    "    # 'i' dans les arguments doit être 'i' sans guillemets pour utiliser la valeur de 'i' (l'adresse e-mail) comme destinataire\n",
    "    kit.send_mail(\"cl.faraban@gmail.com\", \"mhnxtsumvgqxqvhq\", objet, message, i)"
   ]
  }
 ],
 "metadata": {
  "kernelspec": {
   "display_name": "Python 3 (ipykernel)",
   "language": "python",
   "name": "python3"
  },
  "language_info": {
   "codemirror_mode": {
    "name": "ipython",
    "version": 3
   },
   "file_extension": ".py",
   "mimetype": "text/x-python",
   "name": "python",
   "nbconvert_exporter": "python",
   "pygments_lexer": "ipython3",
   "version": "3.9.12"
  }
 },
 "nbformat": 4,
 "nbformat_minor": 5
}
