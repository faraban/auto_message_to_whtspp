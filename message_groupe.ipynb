{
 "cells": [
  {
   "cell_type": "code",
   "execution_count": 75,
   "id": "6688f4a1",
   "metadata": {},
   "outputs": [],
   "source": [
    "import pandas as pd\n",
    "import numpy as np"
   ]
  },
  {
   "cell_type": "code",
   "execution_count": 76,
   "id": "99b0b6c5",
   "metadata": {},
   "outputs": [],
   "source": [
    "import pywhatkit as kit"
   ]
  },
  {
   "cell_type": "code",
   "execution_count": 77,
   "id": "7d412d78",
   "metadata": {},
   "outputs": [],
   "source": [
    "# chargement des emails\n",
    "data=pd.read_excel('aws.xlsx')\n",
    "mail=list(data['Adresse e-mail']) "
   ]
  },
  {
   "cell_type": "code",
   "execution_count": 78,
   "id": "e3c20635",
   "metadata": {},
   "outputs": [],
   "source": [
    "a=['icloud.com','tmail.com','aiesec.net','0@inphb.ci','mail.coml','z@yahoo.fr','tisarl.com','1@inphb.ci','oulook.com']   \n",
    "ngmail=[]\n",
    "for i in mail:\n",
    "    i=str(i)\n",
    "    if i[-10:] in a:\n",
    "        ngmail.append(i)\n",
    "for i in ngmail:\n",
    "    mail.remove(i)"
   ]
  },
  {
   "cell_type": "code",
   "execution_count": 80,
   "id": "b59352ad",
   "metadata": {},
   "outputs": [],
   "source": [
    "for i in mail:\n",
    "    message=\"Bonsoir,Suite à votre candidature à la format-ion Cloud AWS, organisée par Simplon Côte d'Ivoire, nous vous invitons à venir participer à une réunion d'information collective qui aura lieu demain vendredi 22 septembre 2023 à 10h30 à la  Villa simplon (à la palmeraie vers carrefour guiraud) dont voici géolocalisation : https://goo.gl/maps/FaoHdZqfmGDBRQst9 Cette réunion obligatoire à pour but d'avoir toutes les informations et conditions relatives à la formation.Contact : 0503382155\"\n",
    "    kit.send_mail(\"cl.faraban@gmail.com\",\"ycrqvonuzqdjhkev\",\"réunion d'information collective formation Cloud AWS\", message,'i')"
   ]
  },
  {
   "cell_type": "code",
   "execution_count": null,
   "id": "50eceb06",
   "metadata": {},
   "outputs": [],
   "source": []
  }
 ],
 "metadata": {
  "kernelspec": {
   "display_name": "Python 3 (ipykernel)",
   "language": "python",
   "name": "python3"
  },
  "language_info": {
   "codemirror_mode": {
    "name": "ipython",
    "version": 3
   },
   "file_extension": ".py",
   "mimetype": "text/x-python",
   "name": "python",
   "nbconvert_exporter": "python",
   "pygments_lexer": "ipython3",
   "version": "3.9.12"
  }
 },
 "nbformat": 4,
 "nbformat_minor": 5
}
