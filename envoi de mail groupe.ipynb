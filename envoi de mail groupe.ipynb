{
 "cells": [
  {
   "cell_type": "code",
   "execution_count": 1,
   "id": "155ca3cb",
   "metadata": {},
   "outputs": [],
   "source": [
    "import pandas as pd\n",
    "import numpy as np\n",
    "from time import sleep"
   ]
  },
  {
   "cell_type": "code",
   "execution_count": 20,
   "id": "09b97d3b",
   "metadata": {},
   "outputs": [],
   "source": [
    "import datetime as dt"
   ]
  },
  {
   "cell_type": "code",
   "execution_count": 2,
   "id": "a64aaf96",
   "metadata": {},
   "outputs": [],
   "source": [
    "import pywhatkit as kit"
   ]
  },
  {
   "cell_type": "code",
   "execution_count": null,
   "id": "a1777b37",
   "metadata": {},
   "outputs": [],
   "source": [
    "## filtrage liste de numeros"
   ]
  },
  {
   "cell_type": "code",
   "execution_count": 5,
   "id": "7b5e86e4",
   "metadata": {},
   "outputs": [],
   "source": [
    "data=pd.read_excel('aws.xlsx')\n",
    "numeros=list(data[\"Numéro de téléphone où l'on peut vous joindre \"])"
   ]
  },
  {
   "cell_type": "code",
   "execution_count": 6,
   "id": "06d86f6d",
   "metadata": {},
   "outputs": [],
   "source": [
    "contacts=[]\n",
    "contact=[]\n",
    "# correction des numeros\n",
    "for n in numeros:\n",
    "    n=str(n)\n",
    "    if len(n)==10:\n",
    "        contact.append(n)\n",
    "    if len(n)==11:\n",
    "        c='0'\n",
    "        for i in range(9):\n",
    "            c=c+n[i]  \n",
    "        contact.append(c)\n",
    "# gestion des cas particulier\n",
    "contact=contact+['0706004513','0584340383','0153696677','0150711932','0757554191','0172386662','0778870770','0777660986','0708087686','0757968504','0140999945','0777113013','0788937280','0709068191','0708087686','0787586380','0141639342','0500104459','0789026872','0556388498','0556547247','0777984454','0171158486','0778662173','0141000041','0789579245',]\n",
    "contact1=['+22676580531','+228 96690981','+226 67841671','+22662590492']\n",
    "# ajoute d'indice\n",
    "ind='+225'\n",
    "for i in contact:\n",
    "    a=ind+i\n",
    "    contacts.append(a)\n",
    "contacts.extend(contact1)"
   ]
  },
  {
   "cell_type": "code",
   "execution_count": 7,
   "id": "625c66a0",
   "metadata": {},
   "outputs": [],
   "source": [
    "numeros=pd.DataFrame(contacts)\n",
    "numeros=numeros.drop_duplicates()"
   ]
  },
  {
   "cell_type": "code",
   "execution_count": 27,
   "id": "d8c274a4",
   "metadata": {},
   "outputs": [],
   "source": [
    "# envoi des messages\n",
    "for i in numeros[0]: \n",
    "    message=\"Bonsoir,Suite à votre candidature à la formation Cloud AWS, organisée par Simplon Côte d'Ivoire, nous vous invitons à venir participer à une réunion d'information collective qui aura lieu demain vendredi 22 septembre 2023 à 10h30 à la  Villa simplon (à la palmeraie vers carrefour guiraud) dont voici géolocalisation : https://goo.gl/maps/FaoHdZqfmGDBRQst9 Cette réunion obligatoire à pour but d'avoir toutes les informations et conditions relatives à la formation.Contact : 0503382155\"\n",
    "    \n",
    "    temps=dt.datetime.now()\n",
    "    h=temps.hour\n",
    "    m=temps.minute\n",
    "    \n",
    "    if m<58:\n",
    "        m+=1\n",
    "        kit.sendwhatmsg(i,message,h,m)\n",
    "    else:\n",
    "        h+=1\n",
    "        m=0\n",
    "        kit.sendwhatmsg(i,message,h,m)"
   ]
  },
  {
   "cell_type": "code",
   "execution_count": null,
   "id": "710a9352",
   "metadata": {},
   "outputs": [],
   "source": []
  }
 ],
 "metadata": {
  "kernelspec": {
   "display_name": "Python 3 (ipykernel)",
   "language": "python",
   "name": "python3"
  },
  "language_info": {
   "codemirror_mode": {
    "name": "ipython",
    "version": 3
   },
   "file_extension": ".py",
   "mimetype": "text/x-python",
   "name": "python",
   "nbconvert_exporter": "python",
   "pygments_lexer": "ipython3",
   "version": "3.9.12"
  }
 },
 "nbformat": 4,
 "nbformat_minor": 5
}
