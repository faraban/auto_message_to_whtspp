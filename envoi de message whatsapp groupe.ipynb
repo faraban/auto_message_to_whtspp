{
 "cells": [
  {
   "cell_type": "code",
   "execution_count": 1,
   "id": "155ca3cb",
   "metadata": {},
   "outputs": [],
   "source": [
    "# Importation de la bibliothèque pandas pour la manipulation de données tabulaires\n",
    "import pandas as pd\n",
    "# Importation de la bibliothèque numpy pour les opérations mathématiques et numériques\n",
    "import numpy as np\n",
    "# Importation de la fonction 'sleep' de la bibliothèque time pour ajouter des délais dans l'exécution du script\n",
    "from time import sleep\n",
    "# Importation de la bibliothèque datetime pour travailler avec des objets de date et d'heure\n",
    "import datetime as dt\n",
    "# Importation de la bibliothèque pywhatkit pour utiliser ses fonctionnalités\n",
    "import pywhatkit as kit"
   ]
  },
  {
   "cell_type": "code",
   "execution_count": 5,
   "id": "7b5e86e4",
   "metadata": {},
   "outputs": [],
   "source": [
    "# Lecture des données à partir du fichier Excel \"aws.xlsx\" et stockage dans un objet DataFrame pandas\n",
    "data = pd.read_excel('aws.xlsx')\n",
    "# Extraction de la colonne \"Numéro de téléphone où l'on peut vous joindre\" du DataFrame\n",
    "# et stockage des numéros de téléphone dans une liste appelée \"numeros\"\n",
    "numeros = list(data[\"Numéro de téléphone où l'on peut vous joindre \"])"
   ]
  },
  {
   "cell_type": "code",
   "execution_count": 6,
   "id": "06d86f6d",
   "metadata": {},
   "outputs": [],
   "source": [
    "# Création de deux listes vides pour stocker les contacts\n",
    "contacts = []\n",
    "contact = []\n",
    "# Parcours de chaque numéro de téléphone dans la liste \"numeros\"\n",
    "for n in numeros:\n",
    "    # Conversion du numéro en chaîne de caractères (au cas où ce ne serait pas déjà une chaîne)\n",
    "    n = str(n)\n",
    "    \n",
    "    # Vérification de la longueur du numéro (10 caractères)\n",
    "    if len(n) == 10:\n",
    "        # Si la longueur est de 10 caractères, ajoute le numéro à la liste \"contact\"\n",
    "        contact.append(n)\n",
    "    \n",
    "    # Vérification de la longueur du numéro (11 caractères)\n",
    "    if len(n) == 11:\n",
    "        # Création d'une nouvelle chaîne de caractères en ajoutant '0' aux 9 premiers caractères\n",
    "        c = '0'\n",
    "        for i in range(9):\n",
    "            c = c + n[i]\n",
    "        # Ajoute le nouveau numéro à la liste \"contact\"\n",
    "        contact.append(c)\n",
    "# Ajout de plusieurs numéros de téléphone à la liste \"contact\"\n",
    "contact = contact + ['0706004513', '0584340383', '0153696677', '0150711932', '0757554191', '0172386662', '0778870770', '0777660986', '0708087686', '0757968504', '0140999945', '0777113013', '0788937280', '0709068191', '0708087686', '0787586380', '0141639342', '0500104459', '0789026872', '0556388498', '0556547247', '0777984454', '0171158486', '0778662173', '0141000041', '0789579245']\n",
    "# Liste d'indicatifs téléphoniques pour la Côte d'Ivoire\n",
    "ind = '+225'\n",
    "# Ajout de l'indicatif téléphonique à chaque numéro de la liste \"contact\"\n",
    "for i in contact:\n",
    "    a = ind + i\n",
    "    contacts.append(a)\n",
    "# Ajout de numéros de téléphone supplémentaires à la liste \"contacts\"\n",
    "contact1 = ['+22676580531', '+228 96690981', '+226 67841671', '+22662590492']\n",
    "contacts.extend(contact1)\n"
   ]
  },
  {
   "cell_type": "code",
   "execution_count": 7,
   "id": "625c66a0",
   "metadata": {},
   "outputs": [],
   "source": [
    "# Création d'un DataFrame pandas appelé \"numeros\" en utilisant la liste \"contacts\"\n",
    "numeros = pd.DataFrame(contacts)\n",
    "# Suppression des doublons dans le DataFrame \"numeros\"\n",
    "numeros = numeros.drop_duplicates()"
   ]
  },
  {
   "cell_type": "code",
   "execution_count": 27,
   "id": "d8c274a4",
   "metadata": {},
   "outputs": [],
   "source": [
    "# Parcours de chaque numéro de téléphone dans la première colonne du DataFrame \"numeros\"\n",
    "for i in numeros[0]:\n",
    "    # Définition du message à envoyer (message d'invitation à une réunion)\n",
    "    message = \"Bonsoir, Suite à votre candidature à la formation Cloud AWS, organisée par Simplon Côte d'Ivoire, nous vous invitons à venir participer à une réunion d'information collective qui aura lieu demain vendredi 22 septembre 2023 à 10h30 à la Villa Simplon (à la palmeraie vers carrefour guiraud) dont voici la géolocalisation : https://goo.gl/maps/FaoHdZqfmGDBRQst9 Cette réunion obligatoire a pour but de vous fournir toutes les informations et conditions relatives à la formation. Contact : 0503382155\"\n",
    "    \n",
    "    # Obtenir l'heure actuelle et les minutes actuelles\n",
    "    temps = dt.datetime.now()\n",
    "    h = temps.hour\n",
    "    m = temps.minute\n",
    "    \n",
    "    # Vérification si les minutes actuelles sont inférieures à 58\n",
    "    if m < 58:\n",
    "        # Si oui, ajoute 1 minute aux minutes actuelles\n",
    "        m += 1\n",
    "        # Envoie du message WhatsApp à l'heure et aux minutes spécifiées\n",
    "        kit.sendwhatmsg(i, message, h, m)\n",
    "    else:\n",
    "        # Sinon, ajoute 1 heure et remet les minutes à 0\n",
    "        h += 1\n",
    "        m = 0\n",
    "        # Envoie du message WhatsApp à l'heure (heure + 1) et aux minutes (0)\n",
    "        kit.sendwhatmsg(i, message, h, m)"
   ]
  }
 ],
 "metadata": {
  "kernelspec": {
   "display_name": "Python 3 (ipykernel)",
   "language": "python",
   "name": "python3"
  },
  "language_info": {
   "codemirror_mode": {
    "name": "ipython",
    "version": 3
   },
   "file_extension": ".py",
   "mimetype": "text/x-python",
   "name": "python",
   "nbconvert_exporter": "python",
   "pygments_lexer": "ipython3",
   "version": "3.9.12"
  }
 },
 "nbformat": 4,
 "nbformat_minor": 5
}
