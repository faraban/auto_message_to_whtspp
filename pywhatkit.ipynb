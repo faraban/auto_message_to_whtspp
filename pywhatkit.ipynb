{
 "cells": [
  {
   "cell_type": "markdown",
   "id": "d0e67b3e",
   "metadata": {},
   "source": [
    "## LA BIBLIOTHEQUE PYWHATKIT"
   ]
  },
  {
   "cell_type": "code",
   "execution_count": 1,
   "id": "87f8d0c8",
   "metadata": {},
   "outputs": [],
   "source": []
  },
  {
   "cell_type": "code",
   "execution_count": 8,
   "id": "8ec9276a",
   "metadata": {},
   "outputs": [],
   "source": [
    "# "
   ]
  },
  {
   "cell_type": "code",
   "execution_count": 9,
   "id": "f37cbcaa",
   "metadata": {},
   "outputs": [],
   "source": [
    "# "
   ]
  },
  {
   "cell_type": "code",
   "execution_count": 10,
   "id": "6eed752a",
   "metadata": {},
   "outputs": [],
   "source": [
    "# "
   ]
  },
  {
   "cell_type": "code",
   "execution_count": 11,
   "id": "92e38a14",
   "metadata": {},
   "outputs": [],
   "source": [
    "# "
   ]
  },
  {
   "cell_type": "code",
   "execution_count": 12,
   "id": "e0be3d77",
   "metadata": {},
   "outputs": [],
   "source": [
    "# #possibilite d'efface"
   ]
  },
  {
   "cell_type": "code",
   "execution_count": 13,
   "id": "558778b5",
   "metadata": {},
   "outputs": [],
   "source": [
    "#  # image non enregistre"
   ]
  },
  {
   "cell_type": "code",
   "execution_count": 14,
   "id": "0283067c",
   "metadata": {},
   "outputs": [],
   "source": [
    "# "
   ]
  },
  {
   "cell_type": "markdown",
   "id": "a0216f88",
   "metadata": {},
   "source": [
    "## envoi de mail"
   ]
  },
  {
   "cell_type": "code",
   "execution_count": 15,
   "id": "f4dc3806",
   "metadata": {},
   "outputs": [],
   "source": [
    "# emailr=\"farabanlaminecamara1995@gmail.com\"\n",
    "# emaile=\"cl.faraban@gmail.com\"\n",
    "# passw=\"ycrqvonuzqdjhkev\"\n",
    "# msg=\"R2.jpg\""
   ]
  },
  {
   "cell_type": "code",
   "execution_count": 16,
   "id": "003d2074",
   "metadata": {},
   "outputs": [],
   "source": [
    "# kit.send_mail(emile,passw,\"test mail\",msg,emailr)"
   ]
  },
  {
   "cell_type": "code",
   "execution_count": 17,
   "id": "3bec9be6",
   "metadata": {},
   "outputs": [],
   "source": [
    "# code=\"a<html lang=\"fr\">\""
   ]
  },
  {
   "cell_type": "code",
   "execution_count": 45,
   "id": "8c1b47c1",
   "metadata": {},
   "outputs": [
    {
     "name": "stdout",
     "output_type": "stream",
     "text": [
      "Email Sent Successfully!\n"
     ]
    }
   ],
   "source": [
    "# kit.send_hmail(emaile,passw,\"test mail\",code,emailr)"
   ]
  },
  {
   "cell_type": "code",
   "execution_count": 49,
   "id": "5726bcb5",
   "metadata": {},
   "outputs": [
    {
     "ename": "UnableToAccessApi",
     "evalue": "Unable to access Pywhatkit api right now",
     "output_type": "error",
     "traceback": [
      "\u001b[1;31m---------------------------------------------------------------------------\u001b[0m",
      "\u001b[1;31mUnableToAccessApi\u001b[0m                         Traceback (most recent call last)",
      "Input \u001b[1;32mIn [49]\u001b[0m, in \u001b[0;36m<cell line: 1>\u001b[1;34m()\u001b[0m\n\u001b[1;32m----> 1\u001b[0m \u001b[43mkit\u001b[49m\u001b[38;5;241;43m.\u001b[39;49m\u001b[43mtext_to_handwriting\u001b[49m\u001b[43m(\u001b[49m\u001b[38;5;124;43m\"\u001b[39;49m\u001b[38;5;124;43mHello\u001b[39;49m\u001b[38;5;124;43m\"\u001b[39;49m\u001b[43m,\u001b[49m\u001b[43m \u001b[49m\u001b[38;5;124;43m\"\u001b[39;49m\u001b[38;5;124;43mfilename.png\u001b[39;49m\u001b[38;5;124;43m\"\u001b[39;49m\u001b[43m,\u001b[49m\u001b[43m \u001b[49m\u001b[43m(\u001b[49m\u001b[38;5;241;43m0\u001b[39;49m\u001b[43m,\u001b[49m\u001b[43m \u001b[49m\u001b[38;5;241;43m0\u001b[39;49m\u001b[43m,\u001b[49m\u001b[43m \u001b[49m\u001b[38;5;241;43m138\u001b[39;49m\u001b[43m)\u001b[49m\u001b[43m)\u001b[49m\n",
      "File \u001b[1;32m~\\anaconda3\\lib\\site-packages\\pywhatkit\\handwriting.py:22\u001b[0m, in \u001b[0;36mtext_to_handwriting\u001b[1;34m(string, save_to, rgb)\u001b[0m\n\u001b[0;32m     20\u001b[0m         file\u001b[38;5;241m.\u001b[39mclose()\n\u001b[0;32m     21\u001b[0m \u001b[38;5;28;01melif\u001b[39;00m \u001b[38;5;241m400\u001b[39m \u001b[38;5;241m<\u001b[39m\u001b[38;5;241m=\u001b[39m status_code \u001b[38;5;241m<\u001b[39m\u001b[38;5;241m=\u001b[39m \u001b[38;5;241m599\u001b[39m:\n\u001b[1;32m---> 22\u001b[0m     \u001b[38;5;28;01mraise\u001b[39;00m exceptions\u001b[38;5;241m.\u001b[39mUnableToAccessApi(\u001b[38;5;124m\"\u001b[39m\u001b[38;5;124mUnable to access Pywhatkit api right now\u001b[39m\u001b[38;5;124m\"\u001b[39m)\n",
      "\u001b[1;31mUnableToAccessApi\u001b[0m: Unable to access Pywhatkit api right now"
     ]
    }
   ],
   "source": [
    "kit.text_to_handwriting(\"Hello\", \"filename.png\", (0, 0, 138))"
   ]
  },
  {
   "cell_type": "code",
   "execution_count": null,
   "id": "d867d735",
   "metadata": {},
   "outputs": [],
   "source": []
  }
 ],
 "metadata": {
  "kernelspec": {
   "display_name": "Python 3 (ipykernel)",
   "language": "python",
   "name": "python3"
  },
  "language_info": {
   "codemirror_mode": {
    "name": "ipython",
    "version": 3
   },
   "file_extension": ".py",
   "mimetype": "text/x-python",
   "name": "python",
   "nbconvert_exporter": "python",
   "pygments_lexer": "ipython3",
   "version": "3.9.12"
  }
 },
 "nbformat": 4,
 "nbformat_minor": 5
}
